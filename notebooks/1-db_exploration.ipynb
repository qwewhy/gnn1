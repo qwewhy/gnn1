{
 "cells": [
  {
   "cell_type": "code",
   "execution_count": null,
   "id": "06fb877e",
   "metadata": {},
   "outputs": [],
   "source": [
    "# 1. 探索性数据分析 (Exploratory Data Analysis - EDA)\n",
    "\n",
    "##这个Notebook用于连接到 `patches.db` 数据库，并进行初步的数据探索。"
   ]
  },
  {
   "cell_type": "code",
   "execution_count": 1,
   "id": "1ce42d3e",
   "metadata": {},
   "outputs": [
    {
     "ename": "",
     "evalue": "",
     "output_type": "error",
     "traceback": [
      "\u001b[1;31mThe Kernel crashed while executing code in the current cell or a previous cell. \n",
      "\u001b[1;31mPlease review the code in the cell(s) to identify a possible cause of the failure. \n",
      "\u001b[1;31mClick <a href='https://aka.ms/vscodeJupyterKernelCrash'>here</a> for more info. \n",
      "\u001b[1;31mView Jupyter <a href='command:jupyter.viewOutput'>log</a> for further details."
     ]
    }
   ],
   "source": [
    "import sqlite3\n",
    "import pandas as pd\n",
    "from pathlib import Path\n",
    "\n",
    "# 设置数据库路径 (Set database path)\n",
    "# 我们是在 notebooks/ 目录下运行，所以需要返回上一级目录\n",
    "db_path = Path('../data/raw/patches.db')\n",
    "\n",
    "print(f\"数据库文件是否存在 (Database file exists): {db_path.exists()}\")"
   ]
  },
  {
   "cell_type": "code",
   "execution_count": null,
   "id": "6941310c",
   "metadata": {},
   "outputs": [],
   "source": [
    "## 1.1 连接数据库并列出所有表 (Connect to DB and List Tables)"
   ]
  },
  {
   "cell_type": "code",
   "execution_count": null,
   "id": "2db3ba00",
   "metadata": {},
   "outputs": [],
   "source": [
    "# 连接数据库 (Connect to the database)\n",
    "conn = sqlite3.connect(db_path)\n",
    "cursor = conn.cursor()\n",
    "\n",
    "# 查询所有表名 (Query all table names)\n",
    "cursor.execute(\"SELECT name FROM sqlite_master WHERE type='table';\")\n",
    "tables = cursor.fetchall()\n",
    "\n",
    "print(\"数据库中的表 (Tables in the database):\")\n",
    "for table in tables:\n",
    "    print(f\"- {table[0]}\")"
   ]
  },
  {
   "cell_type": "code",
   "execution_count": null,
   "id": "ebc507c9",
   "metadata": {},
   "outputs": [],
   "source": [
    "## 1.2 检查 `patterns` 表的结构 (Inspect `patterns` Table Schema)"
   ]
  },
  {
   "cell_type": "code",
   "execution_count": null,
   "id": "e6d620d7",
   "metadata": {},
   "outputs": [],
   "source": [
    "# 使用 PRAGMA table_info 获取表结构 (Use PRAGMA table_info to get table schema)\n",
    "query = \"PRAGMA table_info(patterns);\"\n",
    "schema_df = pd.read_sql_query(query, conn)\n",
    "\n",
    "print(\"`patterns` 表的结构 (Schema of `patterns` table):\")\n",
    "display(schema_df)"
   ]
  },
  {
   "cell_type": "code",
   "execution_count": null,
   "id": "b84984ef",
   "metadata": {},
   "outputs": [],
   "source": [
    "## 1.3 查看数据样本 (View Data Samples)"
   ]
  },
  {
   "cell_type": "code",
   "execution_count": null,
   "id": "70728add",
   "metadata": {},
   "outputs": [],
   "source": [
    "# 获取并打印前5个模式 (Fetch and print the first 5 patterns)\n",
    "query = \"SELECT * FROM patterns LIMIT 5;\"\n",
    "sample_df = pd.read_sql_query(query, conn)\n",
    "\n",
    "print(\"前5个模式样本 (First 5 pattern samples):\")\n",
    "display(sample_df)"
   ]
  },
  {
   "cell_type": "code",
   "execution_count": null,
   "id": "91596275",
   "metadata": {},
   "outputs": [],
   "source": [
    "## 1.4 统计不同边数的模式数量 (Count Patterns by Number of Sides)\n",
    "\n",
    "##这一步验证数据的完整性，并与原论文中的统计数据进行比较。"
   ]
  },
  {
   "cell_type": "code",
   "execution_count": null,
   "id": "06d0eab4",
   "metadata": {},
   "outputs": [],
   "source": [
    "# 统计每个边数对应的模式数量 (Count the number of patterns for each number of sides)\n",
    "query = \"\"\"\n",
    "SELECT \n",
    "    sides, \n",
    "    COUNT(id) as pattern_count\n",
    "FROM \n",
    "    patterns\n",
    "GROUP BY \n",
    "    sides\n",
    "ORDER BY \n",
    "    sides;\n",
    "\"\"\"\n",
    "sides_count_df = pd.read_sql_query(query, conn)\n",
    "\n",
    "print(\"不同边数的模式数量统计 (Statistics on the number of patterns with different numbers of sides):\")\n",
    "display(sides_count_df)"
   ]
  },
  {
   "cell_type": "code",
   "execution_count": null,
   "id": "30e6ad1a",
   "metadata": {},
   "outputs": [],
   "source": [
    "## 1.5 关闭数据库连接 (Close Database Connection)"
   ]
  },
  {
   "cell_type": "code",
   "execution_count": null,
   "id": "8d8dd795",
   "metadata": {},
   "outputs": [],
   "source": [
    "# 关闭连接 (Close the connection)\n",
    "conn.close()\n",
    "print(\"数据库连接已关闭 (Database connection closed).\")"
   ]
  }
 ],
 "metadata": {
  "kernelspec": {
   "display_name": "gnn_env",
   "language": "python",
   "name": "python3"
  },
  "language_info": {
   "codemirror_mode": {
    "name": "ipython",
    "version": 3
   },
   "file_extension": ".py",
   "mimetype": "text/x-python",
   "name": "python",
   "nbconvert_exporter": "python",
   "pygments_lexer": "ipython3",
   "version": "3.11.13"
  }
 },
 "nbformat": 4,
 "nbformat_minor": 5
}
